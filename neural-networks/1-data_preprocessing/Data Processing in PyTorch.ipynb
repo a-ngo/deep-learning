{
 "cells": [
  {
   "attachments": {},
   "cell_type": "markdown",
   "id": "8677c779",
   "metadata": {},
   "source": [
    "# Data Processing in PyTorch\n",
    "\n",
    "In this exercise, you will demonstrate your knowledge of PyTorch, tensors, and data preprocessing using the `torch`  and `torchvision.transforms` modules.\n",
    "In cases where a variable or function name is provided for you, please do not change that name, as it will break the grading code."
   ]
  },
  {
   "cell_type": "code",
   "execution_count": 1,
   "id": "1507e0c1",
   "metadata": {},
   "outputs": [],
   "source": [
    "# DO NOT EDIT THIS CELL\n",
    "import torch\n",
    "from torch.utils.data import DataLoader\n",
    "from torchvision import transforms\n",
    "from torchvision import datasets\n",
    "from torchvision.transforms import ToTensor\n",
    "import matplotlib.pyplot as plt"
   ]
  },
  {
   "attachments": {},
   "cell_type": "markdown",
   "id": "eb440153",
   "metadata": {},
   "source": [
    "## Creating tensors\n",
    "In the cell below, you will create tensors of different shapes and sizes using tensor creation operations. \n",
    "If you're unfamiliar with one or more of the operations, reference the [relevant documentation](https://pytorch.org/docs/stable/torch.html#creation-ops)."
   ]
  },
  {
   "cell_type": "code",
   "execution_count": 3,
   "id": "77331bae",
   "metadata": {},
   "outputs": [
    {
     "name": "stdout",
     "output_type": "stream",
     "text": [
      "tensor([[0., 0., 0.],\n",
      "        [0., 0., 0.],\n",
      "        [0., 0., 0.]])\n",
      "tensor([[[1., 1., 1., 1., 1.],\n",
      "         [1., 1., 1., 1., 1.],\n",
      "         [1., 1., 1., 1., 1.],\n",
      "         [1., 1., 1., 1., 1.],\n",
      "         [1., 1., 1., 1., 1.]],\n",
      "\n",
      "        [[1., 1., 1., 1., 1.],\n",
      "         [1., 1., 1., 1., 1.],\n",
      "         [1., 1., 1., 1., 1.],\n",
      "         [1., 1., 1., 1., 1.],\n",
      "         [1., 1., 1., 1., 1.]],\n",
      "\n",
      "        [[1., 1., 1., 1., 1.],\n",
      "         [1., 1., 1., 1., 1.],\n",
      "         [1., 1., 1., 1., 1.],\n",
      "         [1., 1., 1., 1., 1.],\n",
      "         [1., 1., 1., 1., 1.]],\n",
      "\n",
      "        [[1., 1., 1., 1., 1.],\n",
      "         [1., 1., 1., 1., 1.],\n",
      "         [1., 1., 1., 1., 1.],\n",
      "         [1., 1., 1., 1., 1.],\n",
      "         [1., 1., 1., 1., 1.]],\n",
      "\n",
      "        [[1., 1., 1., 1., 1.],\n",
      "         [1., 1., 1., 1., 1.],\n",
      "         [1., 1., 1., 1., 1.],\n",
      "         [1., 1., 1., 1., 1.],\n",
      "         [1., 1., 1., 1., 1.]]])\n",
      "tensor([[[[8.6292e-01, 5.3588e-01, 9.9455e-01, 9.8873e-01, 7.4657e-01,\n",
      "           3.4507e-01, 2.4326e-01, 4.8410e-01],\n",
      "          [5.9509e-01, 7.9715e-01, 8.8067e-01, 2.1991e-01, 3.2295e-01,\n",
      "           1.0706e-01, 5.8845e-01, 5.7053e-01],\n",
      "          [9.8123e-01, 5.1468e-01, 7.5505e-01, 5.2592e-01, 8.4938e-01,\n",
      "           5.6149e-02, 6.3938e-02, 8.6941e-01],\n",
      "          [2.9185e-01, 4.8587e-01, 8.3993e-01, 7.5908e-01, 8.5214e-01,\n",
      "           5.9954e-01, 7.6306e-01, 3.9732e-01],\n",
      "          [9.6712e-01, 9.6655e-01, 8.4983e-01, 2.1174e-01, 8.0695e-01,\n",
      "           8.1664e-01, 6.3800e-02, 3.4411e-02],\n",
      "          [2.7422e-01, 7.7731e-01, 4.1216e-01, 3.4053e-02, 3.3278e-01,\n",
      "           1.8282e-01, 7.8786e-01, 3.9062e-01]],\n",
      "\n",
      "         [[2.9182e-01, 5.3957e-01, 9.1556e-02, 3.0378e-01, 1.2055e-02,\n",
      "           9.4588e-02, 1.5337e-01, 7.6132e-01],\n",
      "          [4.4104e-01, 8.3639e-01, 7.2621e-01, 4.2659e-01, 1.3590e-01,\n",
      "           9.0005e-01, 7.6476e-01, 9.3845e-01],\n",
      "          [1.1170e-01, 9.2983e-01, 9.0855e-01, 3.8347e-01, 7.1430e-01,\n",
      "           1.8884e-01, 3.7866e-01, 5.6658e-01],\n",
      "          [9.8077e-01, 3.5021e-01, 8.6933e-02, 1.0759e-01, 6.7381e-01,\n",
      "           5.6448e-01, 2.4767e-01, 6.3887e-01],\n",
      "          [5.8623e-01, 1.0463e-01, 9.0180e-01, 3.6320e-01, 3.7131e-01,\n",
      "           2.6413e-01, 7.4964e-02, 5.3883e-02],\n",
      "          [5.6439e-01, 1.3552e-02, 3.4282e-01, 9.8263e-01, 6.7927e-01,\n",
      "           2.8249e-01, 9.1450e-01, 9.3868e-01]],\n",
      "\n",
      "         [[9.8575e-01, 3.1508e-01, 3.0128e-01, 4.5996e-01, 6.7312e-01,\n",
      "           3.2167e-01, 7.7794e-01, 7.1292e-02],\n",
      "          [5.1351e-01, 1.4061e-01, 7.6860e-01, 3.2798e-01, 5.6039e-01,\n",
      "           1.9378e-01, 1.1709e-01, 8.7886e-01],\n",
      "          [1.9862e-01, 5.6205e-01, 9.7119e-01, 2.3954e-01, 4.0501e-01,\n",
      "           6.5970e-01, 9.5265e-01, 2.9672e-01],\n",
      "          [4.6105e-01, 3.3628e-01, 5.4618e-01, 5.9829e-01, 7.6565e-01,\n",
      "           8.2416e-01, 7.4047e-01, 7.3542e-02],\n",
      "          [5.4952e-01, 2.3717e-01, 1.3366e-01, 3.4024e-01, 6.8769e-01,\n",
      "           8.1410e-01, 9.5027e-01, 7.5339e-01],\n",
      "          [8.6383e-01, 5.1133e-01, 4.4349e-01, 2.6313e-01, 8.9394e-01,\n",
      "           5.8719e-02, 9.4936e-02, 1.0509e-01]],\n",
      "\n",
      "         [[6.0729e-01, 9.4579e-01, 4.6251e-01, 5.2515e-01, 7.7054e-01,\n",
      "           5.4324e-01, 4.4035e-01, 2.6342e-01],\n",
      "          [5.4135e-01, 3.6592e-01, 7.6730e-01, 6.2531e-01, 5.2262e-02,\n",
      "           6.0414e-01, 7.6255e-01, 5.3476e-01],\n",
      "          [5.9900e-02, 2.1049e-01, 8.7033e-01, 7.5220e-01, 4.4637e-01,\n",
      "           8.4972e-01, 6.3997e-01, 7.0170e-01],\n",
      "          [3.1152e-01, 1.9879e-01, 2.3741e-01, 3.7522e-01, 4.6828e-01,\n",
      "           8.9977e-01, 6.0907e-02, 5.9226e-01],\n",
      "          [7.0813e-01, 9.2606e-01, 5.5936e-01, 9.8325e-01, 5.1995e-01,\n",
      "           2.4741e-01, 4.2948e-01, 7.0715e-01],\n",
      "          [3.9073e-01, 5.3837e-01, 5.0236e-01, 7.2125e-01, 2.3674e-01,\n",
      "           3.0564e-01, 1.0262e-01, 7.4371e-01]]],\n",
      "\n",
      "\n",
      "        [[[6.8860e-01, 7.1917e-01, 9.2537e-02, 9.7312e-01, 1.7344e-01,\n",
      "           4.6740e-01, 8.3493e-01, 1.3534e-01],\n",
      "          [6.8562e-01, 6.9572e-01, 6.4773e-01, 8.7886e-01, 4.1810e-01,\n",
      "           8.1207e-02, 7.2781e-01, 2.6923e-01],\n",
      "          [7.4743e-01, 5.7648e-01, 8.6548e-01, 5.9547e-01, 6.9014e-01,\n",
      "           8.7190e-01, 9.3707e-02, 2.8520e-01],\n",
      "          [1.6309e-02, 9.6213e-01, 4.1313e-02, 5.2266e-02, 7.7837e-01,\n",
      "           5.1489e-01, 7.0562e-01, 9.7085e-01],\n",
      "          [5.7126e-01, 2.4187e-01, 2.8138e-01, 8.8955e-01, 3.5616e-01,\n",
      "           3.4293e-02, 6.7827e-01, 1.1477e-01],\n",
      "          [4.1918e-01, 5.5428e-01, 1.8970e-01, 5.9345e-01, 9.6625e-01,\n",
      "           2.0785e-01, 7.6396e-01, 5.8639e-01]],\n",
      "\n",
      "         [[8.6371e-01, 2.7159e-01, 8.4376e-02, 7.0797e-01, 4.3262e-01,\n",
      "           9.1907e-02, 5.1447e-01, 4.2193e-01],\n",
      "          [8.5978e-01, 8.7354e-01, 2.1312e-02, 6.0862e-01, 6.7274e-01,\n",
      "           1.7357e-01, 2.0727e-01, 3.2790e-01],\n",
      "          [1.9771e-01, 6.4174e-01, 9.1751e-03, 9.9810e-01, 3.9581e-01,\n",
      "           9.9352e-01, 6.8109e-01, 6.4770e-01],\n",
      "          [6.0163e-01, 1.6138e-01, 2.2404e-01, 5.4086e-01, 4.7193e-01,\n",
      "           4.7002e-01, 8.5338e-01, 4.0022e-01],\n",
      "          [3.2672e-02, 1.6381e-01, 7.8670e-01, 1.7752e-01, 7.9557e-01,\n",
      "           4.6594e-01, 2.2653e-01, 7.6054e-01],\n",
      "          [5.4025e-01, 7.4352e-02, 7.5165e-01, 3.2131e-01, 8.9695e-01,\n",
      "           1.0617e-01, 3.0300e-01, 4.3460e-01]],\n",
      "\n",
      "         [[9.7526e-02, 8.0518e-01, 9.3333e-01, 5.1698e-01, 1.8062e-01,\n",
      "           9.2345e-01, 4.5730e-01, 8.6904e-01],\n",
      "          [3.1086e-01, 6.6074e-02, 8.4925e-04, 7.6162e-01, 1.5657e-01,\n",
      "           7.8117e-01, 1.3335e-01, 2.3620e-01],\n",
      "          [4.7516e-01, 8.4658e-01, 8.1291e-01, 2.2749e-01, 5.9424e-01,\n",
      "           1.9664e-01, 7.4947e-01, 8.2229e-01],\n",
      "          [8.0891e-01, 9.2470e-01, 4.9344e-02, 7.6399e-01, 3.3505e-01,\n",
      "           8.4767e-01, 6.8578e-01, 1.1067e-01],\n",
      "          [6.4794e-01, 6.4106e-01, 5.2834e-01, 8.4954e-01, 9.3050e-01,\n",
      "           6.6523e-01, 7.3230e-01, 7.0367e-01],\n",
      "          [6.5814e-01, 9.2295e-01, 9.3335e-01, 8.9266e-01, 7.2178e-01,\n",
      "           1.5987e-01, 1.6573e-01, 2.6240e-01]],\n",
      "\n",
      "         [[6.6735e-01, 9.2537e-01, 9.8935e-01, 8.4993e-01, 4.3329e-01,\n",
      "           5.5831e-01, 5.2495e-01, 9.6446e-01],\n",
      "          [6.9755e-01, 9.1653e-01, 9.8676e-01, 9.3494e-01, 1.5780e-01,\n",
      "           6.8935e-01, 7.0322e-01, 5.4159e-01],\n",
      "          [7.7308e-01, 6.6632e-01, 8.8101e-01, 1.4081e-01, 7.8623e-01,\n",
      "           8.0832e-01, 9.3765e-01, 3.5459e-01],\n",
      "          [9.2680e-01, 4.3397e-01, 1.4169e-01, 6.8992e-01, 5.6559e-01,\n",
      "           2.0322e-01, 3.3521e-01, 5.5725e-01],\n",
      "          [1.8317e-01, 4.6355e-02, 1.0003e-01, 3.8442e-01, 4.1479e-01,\n",
      "           1.6675e-02, 7.8114e-01, 2.0727e-01],\n",
      "          [8.1051e-01, 1.4170e-01, 7.6413e-01, 7.7980e-01, 8.6444e-02,\n",
      "           4.1654e-02, 8.9124e-01, 3.9914e-01]]]])\n"
     ]
    }
   ],
   "source": [
    "# Create a 3 x 3 tensor of all zeros\n",
    "zero_tensor = torch.zeros(3,3)\n",
    "\n",
    "# Create a 5 x 5 x 5 tensor of all ones\n",
    "ones_tensor = torch.ones(5,5,5)\n",
    "\n",
    "# Create a 2 x 4 x 6 x 8 tensor with random values\n",
    "rand_tensor = torch.rand(2,4,6,8)\n",
    "\n",
    "print(zero_tensor)\n",
    "print(ones_tensor)\n",
    "print(rand_tensor)\n"
   ]
  },
  {
   "cell_type": "code",
   "execution_count": 4,
   "id": "5a7131bb",
   "metadata": {},
   "outputs": [
    {
     "name": "stdout",
     "output_type": "stream",
     "text": [
      "Great work!\n"
     ]
    }
   ],
   "source": [
    "# Grading code. Run this cell to test your code!\n",
    "\n",
    "assert torch.is_tensor(zero_tensor), \"Your zero tensor is not a tensor!\"\n",
    "assert zero_tensor.shape == (3, 3), f\"Your zero tensor should have shape (3, 3). It has shape {zero_tensor.shape}.\"\n",
    "assert torch.sum(zero_tensor) == 0, \"Your zero tensor contains nonzero elements!\"\n",
    "\n",
    "assert torch.is_tensor(ones_tensor), \"Your ones tensor is not a tensor!\" \n",
    "assert ones_tensor.shape == (5, 5, 5), f\"Your ones tensor should have shape (5, 5, 5). It has shape {ones_tensor.shape}.\"\n",
    "assert torch.sum(ones_tensor) == 5 * 5 * 5, \"Your ones tensor contains non-one elements!\"\n",
    "\n",
    "assert torch.is_tensor(rand_tensor), \"Your random tensor is not a tensor!\"\n",
    "assert rand_tensor.shape == (2, 4, 6, 8), f\"Your random tensor should have shape (2, 4, 6, 8). It has shape {rand_tensor.shape}.\"\n",
    "\n",
    "print(\"Great work!\")"
   ]
  },
  {
   "attachments": {},
   "cell_type": "markdown",
   "id": "0d8cd5fa",
   "metadata": {},
   "source": [
    "## Creating tensors from Data\n",
    "In the cell below, you will create a tensor with specific values and data type. \n",
    "\n",
    "Your tensor should be a 4 x 4 matrix that looks like this:\n",
    "\n",
    "| 0.5  0.5  0.5  0.5 |\n",
    "\n",
    "| 0.0  0.5  0.5  0.5 |\n",
    "\n",
    "| 0.0  0.0  0.5  0.5 |\n",
    "\n",
    "| 0.0  0.0  0.0. 0.5 |\n",
    "\n",
    "and you should set the `dtype` to a 16-bit floating point type, `float16`."
   ]
  },
  {
   "cell_type": "code",
   "execution_count": 6,
   "id": "42ca8af6",
   "metadata": {},
   "outputs": [
    {
     "name": "stdout",
     "output_type": "stream",
     "text": [
      "[[0.5, 0.5, 0.5, 0.5], [0, 0.5, 0.5, 0.5], [0, 0, 0.5, 0.5], [0, 0, 0, 0.5]]\n",
      "tensor([[0.5000, 0.5000, 0.5000, 0.5000],\n",
      "        [0.0000, 0.5000, 0.5000, 0.5000],\n",
      "        [0.0000, 0.0000, 0.5000, 0.5000],\n",
      "        [0.0000, 0.0000, 0.0000, 0.5000]], dtype=torch.float16)\n"
     ]
    }
   ],
   "source": [
    "# Create your data as a list of lists\n",
    "data = [[0.5, 0.5, 0.5, 0.5], [0, 0.5, 0.5, 0.5], [0, 0, 0.5, 0.5], [0, 0, 0, 0.5]]\n",
    "\n",
    "# Create your tensor from your data\n",
    "upper_triangular = torch.tensor(data, dtype=torch.float16)\n",
    "print(upper_triangular)"
   ]
  },
  {
   "cell_type": "code",
   "execution_count": 7,
   "id": "678e6405",
   "metadata": {},
   "outputs": [
    {
     "name": "stdout",
     "output_type": "stream",
     "text": [
      "Great work!\n"
     ]
    }
   ],
   "source": [
    "# Grading code. Run this cell to test your code!\n",
    "\n",
    "assert torch.is_tensor(upper_triangular), \"Your upper triangular tensor is not a tensor!\"\n",
    "assert torch.sum(upper_triangular) == 5, \"Your upper triangular tensor doesn't appear to have the correct values.\"\n",
    "assert upper_triangular.shape == (4, 4), f\"Your upper triangular tensor should have shape (4, 4) but has shape {upper_triangular.shape}.\"\n",
    "assert upper_triangular.dtype == torch.float16, f\"Your upper triangular tensor should have datatype torch.float16, but has datatype {upper_triangular.dtype}.\"\n",
    "\n",
    "print(\"Great work!\")"
   ]
  },
  {
   "attachments": {},
   "cell_type": "markdown",
   "id": "6c2588d5",
   "metadata": {},
   "source": [
    "## Datasets and DataLoaders\n",
    "Datasets and DataLoaders are key components for using data within PyTorch. \n",
    "In the cells below, you will load and visualize images from the CIFAR-10 dataset.\n",
    "\n",
    "**NOTE:** Make sure that you include the parameter `transform=ToTensor()` in your dataset!\n",
    "\n",
    "If you get stuck, consult the relevant documentation for [CIFAR-10](https://pytorch.org/vision/stable/generated/torchvision.datasets.CIFAR10.html#torchvision.datasets.CIFAR10)\n",
    "or the [DataLoader class](https://pytorch.org/docs/stable/data.html#torch.utils.data.DataLoader)"
   ]
  },
  {
   "cell_type": "code",
   "execution_count": 8,
   "id": "cb1fe43a",
   "metadata": {},
   "outputs": [
    {
     "ename": "SyntaxError",
     "evalue": "invalid syntax (2106844329.py, line 20)",
     "output_type": "error",
     "traceback": [
      "\u001b[0;36m  Cell \u001b[0;32mIn[8], line 20\u001b[0;36m\u001b[0m\n\u001b[0;31m    training_data = ## YOUR CODE HERE ##\u001b[0m\n\u001b[0m                    ^\u001b[0m\n\u001b[0;31mSyntaxError\u001b[0m\u001b[0;31m:\u001b[0m invalid syntax\n"
     ]
    }
   ],
   "source": [
    "# This function will show us 5 images from our dataloader.\n",
    "# You may not want to modify this function, or it will not work.\n",
    "def show5(img_loader):\n",
    "    # The 10 classes in the dataset\n",
    "    classes = ('plane', 'car', 'bird', 'cat', 'deer', 'dog', 'frog', 'horse', 'ship', 'truck')\n",
    "    dataiter = iter(img_loader)\n",
    "    \n",
    "    batch = next(dataiter)\n",
    "    labels = batch[1][0:5]\n",
    "    images = batch[0][0:5]\n",
    "    for i in range(5):\n",
    "        print(classes[labels[i]])\n",
    "    \n",
    "        image = images[i].numpy()\n",
    "        plt.imshow(image.transpose(1,2,0))\n",
    "        plt.show()    \n",
    "\n",
    "\n",
    "# Create the training dataset\n",
    "training_data = ## YOUR CODE HERE ##\n",
    "\n",
    "# Create the training dataloader with batch size 5\n",
    "train_loader = ## YOUR CODE HERE ##\n",
    "\n",
    "# View 5 images using the show5 function\n",
    "show5(train_loader)"
   ]
  },
  {
   "attachments": {},
   "cell_type": "markdown",
   "id": "95578d6b",
   "metadata": {},
   "source": [
    "If you can see 5 images above from the classes in CIFAR-10, you're done with this exercise. Great work!"
   ]
  },
  {
   "cell_type": "code",
   "execution_count": null,
   "id": "f09b7e0e",
   "metadata": {},
   "outputs": [],
   "source": []
  }
 ],
 "metadata": {
  "kernelspec": {
   "display_name": "Python 3 (ipykernel)",
   "language": "python",
   "name": "python3"
  },
  "language_info": {
   "codemirror_mode": {
    "name": "ipython",
    "version": 3
   },
   "file_extension": ".py",
   "mimetype": "text/x-python",
   "name": "python",
   "nbconvert_exporter": "python",
   "pygments_lexer": "ipython3",
   "version": "3.11.4"
  }
 },
 "nbformat": 4,
 "nbformat_minor": 5
}
