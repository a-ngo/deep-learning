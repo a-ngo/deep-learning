{
 "cells": [
  {
   "attachments": {},
   "cell_type": "markdown",
   "metadata": {},
   "source": [
    "# Implementing Gradient Descent\n",
    "\n",
    "Complete all `TODO` items to implement gradient descent with NumPy"
   ]
  },
  {
   "cell_type": "code",
   "execution_count": 1,
   "metadata": {
    "edited": false,
    "gradable": true,
    "grader_id": "kkpzet649mc",
    "udacity_user_query": ""
   },
   "outputs": [
    {
     "name": "stdout",
     "output_type": "stream",
     "text": [
      "e = 0\n"
     ]
    },
    {
     "ename": "TypeError",
     "evalue": "loop of ufunc does not support argument 0 of type float which has no callable exp method",
     "output_type": "error",
     "traceback": [
      "\u001b[0;31m---------------------------------------------------------------------------\u001b[0m",
      "\u001b[0;31mAttributeError\u001b[0m                            Traceback (most recent call last)",
      "\u001b[0;31mAttributeError\u001b[0m: 'float' object has no attribute 'exp'",
      "\nThe above exception was the direct cause of the following exception:\n",
      "\u001b[0;31mTypeError\u001b[0m                                 Traceback (most recent call last)",
      "Cell \u001b[0;32mIn[1], line 87\u001b[0m\n\u001b[1;32m     84\u001b[0m     \u001b[39mreturn\u001b[39;00m weights\n\u001b[1;32m     86\u001b[0m \u001b[39m# Calculate accuracy on test data\u001b[39;00m\n\u001b[0;32m---> 87\u001b[0m weights \u001b[39m=\u001b[39m gradient_descent(features, targets)\n\u001b[1;32m     88\u001b[0m tes_out \u001b[39m=\u001b[39m sigmoid(np\u001b[39m.\u001b[39mdot(features_test, weights))\n\u001b[1;32m     89\u001b[0m predictions \u001b[39m=\u001b[39m tes_out \u001b[39m>\u001b[39m \u001b[39m0.5\u001b[39m\n",
      "Cell \u001b[0;32mIn[1], line 76\u001b[0m, in \u001b[0;36mgradient_descent\u001b[0;34m(features, targets, epochs, learnrate)\u001b[0m\n\u001b[1;32m     74\u001b[0m \u001b[39mprint\u001b[39m(\u001b[39mf\u001b[39m\u001b[39m\"\u001b[39m\u001b[39me = \u001b[39m\u001b[39m{\u001b[39;00me\u001b[39m}\u001b[39;00m\u001b[39m\"\u001b[39m)\n\u001b[1;32m     75\u001b[0m h \u001b[39m=\u001b[39m np\u001b[39m.\u001b[39mdot(features, weights)\n\u001b[0;32m---> 76\u001b[0m out \u001b[39m=\u001b[39m sigmoid(h)\n\u001b[1;32m     77\u001b[0m loss \u001b[39m=\u001b[39m np\u001b[39m.\u001b[39mmean((out \u001b[39m-\u001b[39m targets) \u001b[39m*\u001b[39m\u001b[39m*\u001b[39m \u001b[39m2\u001b[39m)\n\u001b[1;32m     78\u001b[0m \u001b[39mif\u001b[39;00m last_loss \u001b[39mand\u001b[39;00m last_loss \u001b[39m<\u001b[39m loss:\n",
      "Cell \u001b[0;32mIn[1], line 8\u001b[0m, in \u001b[0;36msigmoid\u001b[0;34m(x)\u001b[0m\n\u001b[1;32m      4\u001b[0m \u001b[39mdef\u001b[39;00m \u001b[39msigmoid\u001b[39m(x):\n\u001b[1;32m      5\u001b[0m \u001b[39m    \u001b[39m\u001b[39m\"\"\"\u001b[39;00m\n\u001b[1;32m      6\u001b[0m \u001b[39m    Calculate sigmoid\u001b[39;00m\n\u001b[1;32m      7\u001b[0m \u001b[39m    \"\"\"\u001b[39;00m\n\u001b[0;32m----> 8\u001b[0m     \u001b[39mreturn\u001b[39;00m \u001b[39m1\u001b[39m \u001b[39m/\u001b[39m (\u001b[39m1\u001b[39m \u001b[39m+\u001b[39m np\u001b[39m.\u001b[39;49mexp(\u001b[39m-\u001b[39;49mx))\n",
      "\u001b[0;31mTypeError\u001b[0m: loop of ufunc does not support argument 0 of type float which has no callable exp method"
     ]
    }
   ],
   "source": [
    "import numpy as np\n",
    "from data_prep import features, targets, features_test, targets_test\n",
    "\n",
    "def sigmoid(x):\n",
    "    \"\"\"\n",
    "    Calculate sigmoid\n",
    "    \"\"\"\n",
    "    return 1 / (1 + np.exp(-x))\n",
    "\n",
    "def update_weights(weights, features, targets, learnrate):\n",
    "    \"\"\"\n",
    "    Complete a single epoch of gradient descent and return updated weights\n",
    "    \"\"\"\n",
    "    del_w = np.zeros(weights.shape, dtype=float)\n",
    "    # Loop through all records, x is the input, y is the target\n",
    "    for x, y in zip(features.values, targets):\n",
    "        # TASK: Calculate the output of f(h) by passing h (the dot product\n",
    "        # of x and weights) into the activation function (sigmoid).\n",
    "        # Replace None with appropriate code\n",
    "        output = sigmoid(np.dot(x, weights))\n",
    "\n",
    "        # TASK: Calculate the error by subtracting the network output\n",
    "        # from the target (y).\n",
    "        # Replace None with appropriate code\n",
    "        error =  y - output\n",
    "\n",
    "        # TASK: Calculate the error term by multiplying the error by the\n",
    "        # gradient. Recall that the gradient of the sigmoid f(h) is\n",
    "        # f(h)*(1−f(h)) so you do not need to call any additional\n",
    "        # functions and can simply apply this formula to the output and\n",
    "        # error you already calculated.\n",
    "        # Replace None with appropriate code\n",
    "        gradient = output * (1 - output)\n",
    "        error_term = error * gradient\n",
    "\n",
    "        # TASK: Update the weight step by multiplying the error term by\n",
    "        # the input (x) and adding this to the current weight step.\n",
    "        # Replace 0 with appropriate code\n",
    "        # del_w += error_term * x\n",
    "        del_w = del_w + error_term * x\n",
    "\n",
    "    n_records = features.shape[0]\n",
    "    # TASK: Update the weights by adding the learning rate times the\n",
    "    # change in weights divided by the number of records.\n",
    "    # Replace 0 with appropriate code\n",
    "    # weights += learnrate * del_w / n_records\n",
    "    weights = weights + learnrate * del_w / n_records\n",
    "    \n",
    "    return weights\n",
    "\n",
    "def gradient_descent(features, targets, epochs=1000, learnrate=0.5):\n",
    "    \"\"\"\n",
    "    Perform the complete gradient descent process on a given dataset\n",
    "    \"\"\"\n",
    "    # Use to same seed to make debugging easier\n",
    "    np.random.seed(42)\n",
    "    \n",
    "    # Initialize loss and weights\n",
    "    last_loss = None\n",
    "    n_features = features.shape[1]\n",
    "\n",
    "    # keep input to sigmoid relatively small -> around zero\n",
    "    weights = np.random.normal(scale=1/n_features**.5, size=n_features)\n",
    "\n",
    "    # Repeatedly update the weights based on the number of epochs\n",
    "    for e in range(epochs):\n",
    "        weights = update_weights(weights, features, targets, learnrate)\n",
    "\n",
    "        # Printing out the MSE on the training set every 10 epochs.\n",
    "        # Initially this will print the same loss every time. When all of\n",
    "        # the TODOs are complete, the MSE should decrease with each\n",
    "        # printout\n",
    "        if e % (epochs / 10) == 0:\n",
    "            print(f\"e = {e}\")\n",
    "            h = np.dot(features, weights)\n",
    "            out = sigmoid(h)\n",
    "            loss = np.mean((out - targets) ** 2)\n",
    "            if last_loss and last_loss < loss:\n",
    "                print(\"Train loss: \", loss, \"  WARNING - Loss Increasing\")\n",
    "            else:\n",
    "                print(\"Train loss: \", loss)\n",
    "            last_loss = loss\n",
    "            \n",
    "    return weights\n",
    "\n",
    "# Calculate accuracy on test data\n",
    "weights = gradient_descent(features, targets)\n",
    "tes_out = sigmoid(np.dot(features_test, weights))\n",
    "predictions = tes_out > 0.5\n",
    "accuracy = np.mean(predictions == targets_test)\n",
    "print(\"Prediction accuracy: {:.3f}\".format(accuracy))"
   ]
  }
 ],
 "metadata": {
  "grader_mode": "",
  "kernelspec": {
   "display_name": "Python 3",
   "language": "python",
   "name": "python3"
  },
  "language_info": {
   "codemirror_mode": {
    "name": "ipython",
    "version": 3
   },
   "file_extension": ".py",
   "mimetype": "text/x-python",
   "name": "python",
   "nbconvert_exporter": "python",
   "pygments_lexer": "ipython3",
   "version": "3.11.4"
  },
  "showGradeBtn": true
 },
 "nbformat": 4,
 "nbformat_minor": 2
}
